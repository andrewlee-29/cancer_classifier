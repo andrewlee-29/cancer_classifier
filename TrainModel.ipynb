{
 "cells": [
  {
   "attachments": {},
   "cell_type": "markdown",
   "metadata": {},
   "source": [
    "## Import Data"
   ]
  },
  {
   "cell_type": "code",
   "execution_count": 4,
   "metadata": {},
   "outputs": [
    {
     "data": {
      "text/html": [
       "<div>\n",
       "<style scoped>\n",
       "    .dataframe tbody tr th:only-of-type {\n",
       "        vertical-align: middle;\n",
       "    }\n",
       "\n",
       "    .dataframe tbody tr th {\n",
       "        vertical-align: top;\n",
       "    }\n",
       "\n",
       "    .dataframe thead th {\n",
       "        text-align: right;\n",
       "    }\n",
       "</style>\n",
       "<table border=\"1\" class=\"dataframe\">\n",
       "  <thead>\n",
       "    <tr style=\"text-align: right;\">\n",
       "      <th></th>\n",
       "      <th>diagnosis</th>\n",
       "      <th>radius_mean</th>\n",
       "      <th>texture_mean</th>\n",
       "      <th>perimeter_mean</th>\n",
       "      <th>area_mean</th>\n",
       "      <th>smoothness_mean</th>\n",
       "      <th>compactness_mean</th>\n",
       "      <th>concavity_mean</th>\n",
       "      <th>concave points_mean</th>\n",
       "      <th>symmetry_mean</th>\n",
       "      <th>...</th>\n",
       "      <th>radius_worst</th>\n",
       "      <th>texture_worst</th>\n",
       "      <th>perimeter_worst</th>\n",
       "      <th>area_worst</th>\n",
       "      <th>smoothness_worst</th>\n",
       "      <th>compactness_worst</th>\n",
       "      <th>concavity_worst</th>\n",
       "      <th>concave points_worst</th>\n",
       "      <th>symmetry_worst</th>\n",
       "      <th>fractal_dimension_worst</th>\n",
       "    </tr>\n",
       "  </thead>\n",
       "  <tbody>\n",
       "    <tr>\n",
       "      <th>0</th>\n",
       "      <td>1</td>\n",
       "      <td>17.99</td>\n",
       "      <td>10.38</td>\n",
       "      <td>122.8</td>\n",
       "      <td>1001.0</td>\n",
       "      <td>0.11840</td>\n",
       "      <td>0.27760</td>\n",
       "      <td>0.3001</td>\n",
       "      <td>0.14710</td>\n",
       "      <td>0.2419</td>\n",
       "      <td>...</td>\n",
       "      <td>25.38</td>\n",
       "      <td>17.33</td>\n",
       "      <td>184.6</td>\n",
       "      <td>2019.0</td>\n",
       "      <td>0.1622</td>\n",
       "      <td>0.6656</td>\n",
       "      <td>0.7119</td>\n",
       "      <td>0.2654</td>\n",
       "      <td>0.4601</td>\n",
       "      <td>0.11890</td>\n",
       "    </tr>\n",
       "    <tr>\n",
       "      <th>1</th>\n",
       "      <td>1</td>\n",
       "      <td>20.57</td>\n",
       "      <td>17.77</td>\n",
       "      <td>132.9</td>\n",
       "      <td>1326.0</td>\n",
       "      <td>0.08474</td>\n",
       "      <td>0.07864</td>\n",
       "      <td>0.0869</td>\n",
       "      <td>0.07017</td>\n",
       "      <td>0.1812</td>\n",
       "      <td>...</td>\n",
       "      <td>24.99</td>\n",
       "      <td>23.41</td>\n",
       "      <td>158.8</td>\n",
       "      <td>1956.0</td>\n",
       "      <td>0.1238</td>\n",
       "      <td>0.1866</td>\n",
       "      <td>0.2416</td>\n",
       "      <td>0.1860</td>\n",
       "      <td>0.2750</td>\n",
       "      <td>0.08902</td>\n",
       "    </tr>\n",
       "    <tr>\n",
       "      <th>2</th>\n",
       "      <td>1</td>\n",
       "      <td>19.69</td>\n",
       "      <td>21.25</td>\n",
       "      <td>130.0</td>\n",
       "      <td>1203.0</td>\n",
       "      <td>0.10960</td>\n",
       "      <td>0.15990</td>\n",
       "      <td>0.1974</td>\n",
       "      <td>0.12790</td>\n",
       "      <td>0.2069</td>\n",
       "      <td>...</td>\n",
       "      <td>23.57</td>\n",
       "      <td>25.53</td>\n",
       "      <td>152.5</td>\n",
       "      <td>1709.0</td>\n",
       "      <td>0.1444</td>\n",
       "      <td>0.4245</td>\n",
       "      <td>0.4504</td>\n",
       "      <td>0.2430</td>\n",
       "      <td>0.3613</td>\n",
       "      <td>0.08758</td>\n",
       "    </tr>\n",
       "  </tbody>\n",
       "</table>\n",
       "<p>3 rows × 31 columns</p>\n",
       "</div>"
      ],
      "text/plain": [
       "   diagnosis  radius_mean  texture_mean  perimeter_mean  area_mean  \\\n",
       "0          1        17.99         10.38           122.8     1001.0   \n",
       "1          1        20.57         17.77           132.9     1326.0   \n",
       "2          1        19.69         21.25           130.0     1203.0   \n",
       "\n",
       "   smoothness_mean  compactness_mean  concavity_mean  concave points_mean  \\\n",
       "0          0.11840           0.27760          0.3001              0.14710   \n",
       "1          0.08474           0.07864          0.0869              0.07017   \n",
       "2          0.10960           0.15990          0.1974              0.12790   \n",
       "\n",
       "   symmetry_mean  ...  radius_worst  texture_worst  perimeter_worst  \\\n",
       "0         0.2419  ...         25.38          17.33            184.6   \n",
       "1         0.1812  ...         24.99          23.41            158.8   \n",
       "2         0.2069  ...         23.57          25.53            152.5   \n",
       "\n",
       "   area_worst  smoothness_worst  compactness_worst  concavity_worst  \\\n",
       "0      2019.0            0.1622             0.6656           0.7119   \n",
       "1      1956.0            0.1238             0.1866           0.2416   \n",
       "2      1709.0            0.1444             0.4245           0.4504   \n",
       "\n",
       "   concave points_worst  symmetry_worst  fractal_dimension_worst  \n",
       "0                0.2654          0.4601                  0.11890  \n",
       "1                0.1860          0.2750                  0.08902  \n",
       "2                0.2430          0.3613                  0.08758  \n",
       "\n",
       "[3 rows x 31 columns]"
      ]
     },
     "execution_count": 4,
     "metadata": {},
     "output_type": "execute_result"
    }
   ],
   "source": [
    "import numpy as np\n",
    "import pandas as pd\n",
    "import matplotlib.pyplot as plt\n",
    "import seaborn as sns\n",
    "from sklearn.model_selection import train_test_split, GridSearchCV\n",
    "from sklearn.pipeline import Pipeline\n",
    "from sklearn.linear_model import LogisticRegression\n",
    "from sklearn.svm import SVC\n",
    "from sklearn.ensemble import RandomForestClassifier\n",
    "from sklearn.metrics import accuracy_score\n",
    "df = pd.read_csv(\"./dataset/Cancer_Data.csv\")\n",
    "df = df.drop([\"id\",\"Unnamed: 32\"],axis = 'columns')\n",
    "df['diagnosis'].replace(['B', 'M'],[0, 1], inplace=True)\n",
    "df.head(3)"
   ]
  },
  {
   "attachments": {},
   "cell_type": "markdown",
   "metadata": {},
   "source": [
    "## Prepare Results Table"
   ]
  },
  {
   "cell_type": "code",
   "execution_count": 5,
   "metadata": {},
   "outputs": [],
   "source": [
    "all_model_accuracies_df = pd.DataFrame(columns=['Model', 'Base Model',\"experiment 1\",\"experiment 2\",\"experiment 3\",\"experiment 4\",\"experiment 5\"])\n",
    "all_model_accuracies_df['Model'] =['logistic_regression','SVC','random_forest_classifier']"
   ]
  },
  {
   "attachments": {},
   "cell_type": "markdown",
   "metadata": {},
   "source": [
    "## 3 base model prepare"
   ]
  },
  {
   "attachments": {},
   "cell_type": "markdown",
   "metadata": {},
   "source": [
    "### Logistic Regression"
   ]
  },
  {
   "cell_type": "code",
   "execution_count": 6,
   "metadata": {},
   "outputs": [],
   "source": [
    "# Log Reg\n",
    "def logR_tranAndPredict(X,y,model_dict,parm_list):\n",
    "    X_train, X_test, y_train, y_test  = train_test_split(X, y, test_size=0.33, random_state=43)\n",
    "    logclassifier = LogisticRegression()\n",
    "    parameters = {\n",
    "    'C': [0.1, 1, 10]\n",
    "}\n",
    "    predictor_log = GridSearchCV(logclassifier, parameters, cv=5)\n",
    "    predictor_log.fit(X_train, y_train.values.ravel())\n",
    "    # getting the result\n",
    "    accuracy_log_reg = predictor_log.score(X_test, y_test)\n",
    "    model_dict['logistic_regression'] = accuracy_log_reg\n",
    "    parm_list['logistic_regression']=\"{}\".format(predictor_log.best_params_)\n"
   ]
  },
  {
   "attachments": {},
   "cell_type": "markdown",
   "metadata": {},
   "source": [
    "### SVC(Support Vector Classification)"
   ]
  },
  {
   "cell_type": "code",
   "execution_count": 7,
   "metadata": {},
   "outputs": [],
   "source": [
    "#SVC\n",
    "def Svc_tranAndPredict(X,y,model_dict,parm_list):\n",
    "    X_train, X_test, y_train, y_test  = train_test_split(X, y, test_size=0.33, random_state=43)\n",
    "    \n",
    "    svc = SVC()\n",
    "    parameters = {\n",
    "    'C': [0.1, 1, 10],\n",
    "    'gamma':['scale',0.001, 0.0001],\n",
    "    'kernel': ['linear', 'rbf']\n",
    "}\n",
    "    predictor_svc = GridSearchCV(svc, parameters, cv=5)\n",
    "    predictor_svc.fit(X_train, y_train.values.ravel())\n",
    "    # getting the result\n",
    "    accuracy_svc = predictor_svc.score(X_test, y_test)\n",
    "    model_dict['SVC'] = accuracy_svc\n",
    "    parm_list['SVC']=\"{}\".format(predictor_svc.best_params_)"
   ]
  },
  {
   "attachments": {},
   "cell_type": "markdown",
   "metadata": {},
   "source": [
    "### Random Forest Classifier"
   ]
  },
  {
   "cell_type": "code",
   "execution_count": 8,
   "metadata": {},
   "outputs": [],
   "source": [
    "#Random Forest Classifier\n",
    "def Rfc_tranAndPredict(X,y,model_dict,parm_list):\n",
    "    X_train, X_test, y_train, y_test  = train_test_split(X, y, test_size=0.33, random_state=43)\n",
    "    rfc = RandomForestClassifier()\n",
    "    parameters = {\n",
    "    'n_estimators': [10, 50, 100],\n",
    "    'max_depth': [None, 5, 10],\n",
    "    'min_samples_split': [2, 5, 10]\n",
    "    }\n",
    "    predictor_rfc = GridSearchCV(rfc, parameters, cv=5)\n",
    "    predictor_rfc.fit(X_train, y_train.values.ravel())\n",
    "    # getting the result\n",
    "    accuracy_rfc = predictor_rfc.score(X_test, y_test)\n",
    "    model_dict['random_forest_classifier'] = accuracy_rfc\n",
    "    parm_list['random_forest_classifier']=\"{}\".format(predictor_rfc.best_params_)"
   ]
  },
  {
   "attachments": {},
   "cell_type": "markdown",
   "metadata": {},
   "source": [
    "### Base Train"
   ]
  },
  {
   "cell_type": "code",
   "execution_count": 10,
   "metadata": {},
   "outputs": [],
   "source": [
    "# X, y = df.drop('diagnosis', axis=1), df[['diagnosis']]\n",
    "X, y = df[[\"radius_mean\"]], df[['diagnosis']]\n",
    "model_dict = {}\n",
    "parm_list={}\n",
    "logR_tranAndPredict(X,y,model_dict,parm_list)\n",
    "Svc_tranAndPredict(X,y,model_dict,parm_list)\n",
    "Rfc_tranAndPredict(X,y,model_dict,parm_list)"
   ]
  },
  {
   "cell_type": "code",
   "execution_count": 11,
   "metadata": {},
   "outputs": [
    {
     "data": {
      "text/html": [
       "<div>\n",
       "<style scoped>\n",
       "    .dataframe tbody tr th:only-of-type {\n",
       "        vertical-align: middle;\n",
       "    }\n",
       "\n",
       "    .dataframe tbody tr th {\n",
       "        vertical-align: top;\n",
       "    }\n",
       "\n",
       "    .dataframe thead th {\n",
       "        text-align: right;\n",
       "    }\n",
       "</style>\n",
       "<table border=\"1\" class=\"dataframe\">\n",
       "  <thead>\n",
       "    <tr style=\"text-align: right;\">\n",
       "      <th></th>\n",
       "      <th>Model</th>\n",
       "      <th>Accuracy</th>\n",
       "      <th>best_parm</th>\n",
       "    </tr>\n",
       "  </thead>\n",
       "  <tbody>\n",
       "    <tr>\n",
       "      <th>0</th>\n",
       "      <td>logistic_regression</td>\n",
       "      <td>0.904255</td>\n",
       "      <td>{'C': 0.1}</td>\n",
       "    </tr>\n",
       "    <tr>\n",
       "      <th>1</th>\n",
       "      <td>SVC</td>\n",
       "      <td>0.904255</td>\n",
       "      <td>{'C': 10, 'gamma': 'scale', 'kernel': 'rbf'}</td>\n",
       "    </tr>\n",
       "    <tr>\n",
       "      <th>2</th>\n",
       "      <td>random_forest_classifier</td>\n",
       "      <td>0.904255</td>\n",
       "      <td>{'max_depth': 5, 'min_samples_split': 10, 'n_e...</td>\n",
       "    </tr>\n",
       "  </tbody>\n",
       "</table>\n",
       "</div>"
      ],
      "text/plain": [
       "                      Model  Accuracy  \\\n",
       "0       logistic_regression  0.904255   \n",
       "1                       SVC  0.904255   \n",
       "2  random_forest_classifier  0.904255   \n",
       "\n",
       "                                           best_parm  \n",
       "0                                         {'C': 0.1}  \n",
       "1       {'C': 10, 'gamma': 'scale', 'kernel': 'rbf'}  \n",
       "2  {'max_depth': 5, 'min_samples_split': 10, 'n_e...  "
      ]
     },
     "execution_count": 11,
     "metadata": {},
     "output_type": "execute_result"
    }
   ],
   "source": [
    "model_accuracies_df = pd.DataFrame(columns=['Model', 'Accuracy',\"best_parm\"])\n",
    "model_accuracies_df['Model'] = model_dict.keys()\n",
    "model_accuracies_df['Accuracy'] = model_dict.values()\n",
    "model_accuracies_df['best_parm'] = parm_list.values()\n",
    "# store to total results table\n",
    "all_model_accuracies_df['Base Model']= model_dict.values()\n",
    "#show current results\n",
    "model_accuracies_df"
   ]
  },
  {
   "attachments": {},
   "cell_type": "markdown",
   "metadata": {},
   "source": [
    "## Feature Experiment 1: Feature Scaling"
   ]
  },
  {
   "cell_type": "code",
   "execution_count": 12,
   "metadata": {},
   "outputs": [],
   "source": [
    "X, y = df[[\"radius_mean\"]]**2, df[['diagnosis']]\n",
    "model_dict = {}\n",
    "parm_list={}\n",
    "logR_tranAndPredict(X,y,model_dict,parm_list)\n",
    "Svc_tranAndPredict(X,y,model_dict,parm_list)\n",
    "Rfc_tranAndPredict(X,y,model_dict,parm_list)"
   ]
  },
  {
   "cell_type": "code",
   "execution_count": 13,
   "metadata": {},
   "outputs": [
    {
     "data": {
      "text/html": [
       "<div>\n",
       "<style scoped>\n",
       "    .dataframe tbody tr th:only-of-type {\n",
       "        vertical-align: middle;\n",
       "    }\n",
       "\n",
       "    .dataframe tbody tr th {\n",
       "        vertical-align: top;\n",
       "    }\n",
       "\n",
       "    .dataframe thead th {\n",
       "        text-align: right;\n",
       "    }\n",
       "</style>\n",
       "<table border=\"1\" class=\"dataframe\">\n",
       "  <thead>\n",
       "    <tr style=\"text-align: right;\">\n",
       "      <th></th>\n",
       "      <th>Model</th>\n",
       "      <th>Accuracy</th>\n",
       "      <th>best_parm</th>\n",
       "    </tr>\n",
       "  </thead>\n",
       "  <tbody>\n",
       "    <tr>\n",
       "      <th>0</th>\n",
       "      <td>logistic_regression</td>\n",
       "      <td>0.904255</td>\n",
       "      <td>{'C': 0.1}</td>\n",
       "    </tr>\n",
       "    <tr>\n",
       "      <th>1</th>\n",
       "      <td>SVC</td>\n",
       "      <td>0.914894</td>\n",
       "      <td>{'C': 1, 'gamma': 'scale', 'kernel': 'rbf'}</td>\n",
       "    </tr>\n",
       "    <tr>\n",
       "      <th>2</th>\n",
       "      <td>random_forest_classifier</td>\n",
       "      <td>0.904255</td>\n",
       "      <td>{'max_depth': 5, 'min_samples_split': 2, 'n_es...</td>\n",
       "    </tr>\n",
       "  </tbody>\n",
       "</table>\n",
       "</div>"
      ],
      "text/plain": [
       "                      Model  Accuracy  \\\n",
       "0       logistic_regression  0.904255   \n",
       "1                       SVC  0.914894   \n",
       "2  random_forest_classifier  0.904255   \n",
       "\n",
       "                                           best_parm  \n",
       "0                                         {'C': 0.1}  \n",
       "1        {'C': 1, 'gamma': 'scale', 'kernel': 'rbf'}  \n",
       "2  {'max_depth': 5, 'min_samples_split': 2, 'n_es...  "
      ]
     },
     "execution_count": 13,
     "metadata": {},
     "output_type": "execute_result"
    }
   ],
   "source": [
    "model_accuracies_df = pd.DataFrame(columns=['Model', 'Accuracy',\"best_parm\"])\n",
    "model_accuracies_df['Model'] = model_dict.keys()\n",
    "model_accuracies_df['Accuracy'] = model_dict.values()\n",
    "model_accuracies_df['best_parm'] = parm_list.values()\n",
    "all_model_accuracies_df['experiment 1']= model_dict.values()\n",
    "model_accuracies_df"
   ]
  },
  {
   "attachments": {},
   "cell_type": "markdown",
   "metadata": {},
   "source": [
    "## Feature Experiment 2: Add New Features (add texture_mean)"
   ]
  },
  {
   "cell_type": "code",
   "execution_count": 14,
   "metadata": {},
   "outputs": [],
   "source": [
    "# X, y = df.drop('diagnosis', axis=1), df[['diagnosis']]\n",
    "X, y = df[[\"radius_mean\",\"texture_mean\"]], df[['diagnosis']]\n",
    "\n",
    "model_dict = {}\n",
    "parm_list={}\n",
    "logR_tranAndPredict(X,y,model_dict,parm_list)\n",
    "Svc_tranAndPredict(X,y,model_dict,parm_list)\n",
    "Rfc_tranAndPredict(X,y,model_dict,parm_list)"
   ]
  },
  {
   "cell_type": "code",
   "execution_count": 15,
   "metadata": {},
   "outputs": [
    {
     "data": {
      "text/html": [
       "<div>\n",
       "<style scoped>\n",
       "    .dataframe tbody tr th:only-of-type {\n",
       "        vertical-align: middle;\n",
       "    }\n",
       "\n",
       "    .dataframe tbody tr th {\n",
       "        vertical-align: top;\n",
       "    }\n",
       "\n",
       "    .dataframe thead th {\n",
       "        text-align: right;\n",
       "    }\n",
       "</style>\n",
       "<table border=\"1\" class=\"dataframe\">\n",
       "  <thead>\n",
       "    <tr style=\"text-align: right;\">\n",
       "      <th></th>\n",
       "      <th>Model</th>\n",
       "      <th>Accuracy</th>\n",
       "      <th>best_parm</th>\n",
       "    </tr>\n",
       "  </thead>\n",
       "  <tbody>\n",
       "    <tr>\n",
       "      <th>0</th>\n",
       "      <td>logistic_regression</td>\n",
       "      <td>0.914894</td>\n",
       "      <td>{'C': 1}</td>\n",
       "    </tr>\n",
       "    <tr>\n",
       "      <th>1</th>\n",
       "      <td>SVC</td>\n",
       "      <td>0.914894</td>\n",
       "      <td>{'C': 0.1, 'gamma': 'scale', 'kernel': 'rbf'}</td>\n",
       "    </tr>\n",
       "    <tr>\n",
       "      <th>2</th>\n",
       "      <td>random_forest_classifier</td>\n",
       "      <td>0.861702</td>\n",
       "      <td>{'max_depth': 10, 'min_samples_split': 5, 'n_e...</td>\n",
       "    </tr>\n",
       "  </tbody>\n",
       "</table>\n",
       "</div>"
      ],
      "text/plain": [
       "                      Model  Accuracy  \\\n",
       "0       logistic_regression  0.914894   \n",
       "1                       SVC  0.914894   \n",
       "2  random_forest_classifier  0.861702   \n",
       "\n",
       "                                           best_parm  \n",
       "0                                           {'C': 1}  \n",
       "1      {'C': 0.1, 'gamma': 'scale', 'kernel': 'rbf'}  \n",
       "2  {'max_depth': 10, 'min_samples_split': 5, 'n_e...  "
      ]
     },
     "execution_count": 15,
     "metadata": {},
     "output_type": "execute_result"
    }
   ],
   "source": [
    "model_accuracies_df = pd.DataFrame(columns=['Model', 'Accuracy',\"best_parm\"])\n",
    "model_accuracies_df['Model'] = model_dict.keys()\n",
    "model_accuracies_df['Accuracy'] = model_dict.values()\n",
    "model_accuracies_df['best_parm'] = parm_list.values()\n",
    "all_model_accuracies_df['experiment 2']= model_dict.values()\n",
    "model_accuracies_df"
   ]
  },
  {
   "attachments": {},
   "cell_type": "markdown",
   "metadata": {},
   "source": [
    "## Experiment 3: Transform Features via PCA"
   ]
  },
  {
   "attachments": {},
   "cell_type": "markdown",
   "metadata": {},
   "source": [
    "### Check the PCA "
   ]
  },
  {
   "cell_type": "code",
   "execution_count": 16,
   "metadata": {},
   "outputs": [
    {
     "data": {
      "image/png": "[encoded data removed]",
      "text/plain": [
       "<Figure size 432x288 with 1 Axes>"
      ]
     },
     "metadata": {
      "needs_background": "light"
     },
     "output_type": "display_data"
    }
   ],
   "source": [
    "from sklearn.decomposition import PCA\n",
    "from sklearn.preprocessing import StandardScaler\n",
    "X, y = df.drop('diagnosis', axis=1), df[['diagnosis']]\n",
    "#normalize data before PCA\n",
    "X = StandardScaler().fit_transform(X)\n",
    "pca = PCA()\n",
    "pca.fit(X)\n",
    "\n",
    "# Compute the cumulative explained variance for the top 10 components\n",
    "cumulative_variance = np.cumsum(pca.explained_variance_ratio_[:10])\n",
    "\n",
    "# Plot the cumulative explained variance\n",
    "plt.plot(range(1, len(cumulative_variance) + 1), cumulative_variance)\n",
    "plt.xlabel('Number of Principal Components')\n",
    "plt.ylabel('Cumulative Explained Variance Ratio')\n",
    "plt.show()"
   ]
  },
  {
   "attachments": {},
   "cell_type": "markdown",
   "metadata": {},
   "source": [
    "In the plot, we can see that the 8th components explain more than 95% of the total variance in the dataset, while components after 8 explain very little additional variance. "
   ]
  },
  {
   "attachments": {},
   "cell_type": "markdown",
   "metadata": {},
   "source": [
    "### Apply PCA to the training data"
   ]
  },
  {
   "cell_type": "code",
   "execution_count": 29,
   "metadata": {},
   "outputs": [],
   "source": [
    "X, y = df.drop('diagnosis', axis=1), df[['diagnosis']]\n",
    "X = StandardScaler().fit_transform(X)\n",
    "pca = PCA(n_components=8)\n",
    "X_pca = pca.fit_transform(X)\n",
    "model_dict = {}\n",
    "parm_list={}\n",
    "logR_tranAndPredict(X_pca,y,model_dict,parm_list)\n",
    "Svc_tranAndPredict(X_pca,y,model_dict,parm_list)\n",
    "Rfc_tranAndPredict(X_pca,y,model_dict,parm_list)"
   ]
  },
  {
   "cell_type": "code",
   "execution_count": 30,
   "metadata": {},
   "outputs": [
    {
     "data": {
      "text/html": [
       "<div>\n",
       "<style scoped>\n",
       "    .dataframe tbody tr th:only-of-type {\n",
       "        vertical-align: middle;\n",
       "    }\n",
       "\n",
       "    .dataframe tbody tr th {\n",
       "        vertical-align: top;\n",
       "    }\n",
       "\n",
       "    .dataframe thead th {\n",
       "        text-align: right;\n",
       "    }\n",
       "</style>\n",
       "<table border=\"1\" class=\"dataframe\">\n",
       "  <thead>\n",
       "    <tr style=\"text-align: right;\">\n",
       "      <th></th>\n",
       "      <th>Model</th>\n",
       "      <th>Accuracy</th>\n",
       "      <th>best_parm</th>\n",
       "    </tr>\n",
       "  </thead>\n",
       "  <tbody>\n",
       "    <tr>\n",
       "      <th>0</th>\n",
       "      <td>logistic_regression</td>\n",
       "      <td>0.957447</td>\n",
       "      <td>{'C': 1}</td>\n",
       "    </tr>\n",
       "    <tr>\n",
       "      <th>1</th>\n",
       "      <td>SVC</td>\n",
       "      <td>0.952128</td>\n",
       "      <td>{'C': 1, 'gamma': 'scale', 'kernel': 'rbf'}</td>\n",
       "    </tr>\n",
       "    <tr>\n",
       "      <th>2</th>\n",
       "      <td>random_forest_classifier</td>\n",
       "      <td>0.930851</td>\n",
       "      <td>{'max_depth': 5, 'min_samples_split': 2, 'n_es...</td>\n",
       "    </tr>\n",
       "  </tbody>\n",
       "</table>\n",
       "</div>"
      ],
      "text/plain": [
       "                      Model  Accuracy  \\\n",
       "0       logistic_regression  0.957447   \n",
       "1                       SVC  0.952128   \n",
       "2  random_forest_classifier  0.930851   \n",
       "\n",
       "                                           best_parm  \n",
       "0                                           {'C': 1}  \n",
       "1        {'C': 1, 'gamma': 'scale', 'kernel': 'rbf'}  \n",
       "2  {'max_depth': 5, 'min_samples_split': 2, 'n_es...  "
      ]
     },
     "execution_count": 30,
     "metadata": {},
     "output_type": "execute_result"
    }
   ],
   "source": [
    "model_accuracies_df = pd.DataFrame(columns=['Model', 'Accuracy',\"best_parm\"])\n",
    "model_accuracies_df['Model'] = model_dict.keys()\n",
    "model_accuracies_df['Accuracy'] = model_dict.values()\n",
    "model_accuracies_df['best_parm'] = parm_list.values()\n",
    "all_model_accuracies_df['experiment 3']= model_dict.values()\n",
    "model_accuracies_df"
   ]
  },
  {
   "attachments": {},
   "cell_type": "markdown",
   "metadata": {},
   "source": [
    "## Experiment 4: Preprocessing Features (Normalize with min max scaling)"
   ]
  },
  {
   "cell_type": "code",
   "execution_count": 19,
   "metadata": {},
   "outputs": [],
   "source": [
    "from sklearn.preprocessing import MinMaxScaler\n",
    "#fit and transforming MinMaxScaler the dataframe \n",
    "mm = MinMaxScaler()\n",
    "df_new_mm = pd.DataFrame(mm.fit_transform(df), columns=df.columns)\n",
    "X, y = df_new_mm[[\"radius_mean\"]], df_new_mm[['diagnosis']]\n",
    "\n",
    "model_dict = {}\n",
    "parm_list={}\n",
    "logR_tranAndPredict(X,y,model_dict,parm_list)\n",
    "Svc_tranAndPredict(X,y,model_dict,parm_list)\n",
    "Rfc_tranAndPredict(X,y,model_dict,parm_list)"
   ]
  },
  {
   "cell_type": "code",
   "execution_count": 20,
   "metadata": {},
   "outputs": [
    {
     "data": {
      "text/html": [
       "<div>\n",
       "<style scoped>\n",
       "    .dataframe tbody tr th:only-of-type {\n",
       "        vertical-align: middle;\n",
       "    }\n",
       "\n",
       "    .dataframe tbody tr th {\n",
       "        vertical-align: top;\n",
       "    }\n",
       "\n",
       "    .dataframe thead th {\n",
       "        text-align: right;\n",
       "    }\n",
       "</style>\n",
       "<table border=\"1\" class=\"dataframe\">\n",
       "  <thead>\n",
       "    <tr style=\"text-align: right;\">\n",
       "      <th></th>\n",
       "      <th>Model</th>\n",
       "      <th>Accuracy</th>\n",
       "      <th>best_parm</th>\n",
       "    </tr>\n",
       "  </thead>\n",
       "  <tbody>\n",
       "    <tr>\n",
       "      <th>0</th>\n",
       "      <td>logistic_regression</td>\n",
       "      <td>0.904255</td>\n",
       "      <td>{'C': 10}</td>\n",
       "    </tr>\n",
       "    <tr>\n",
       "      <th>1</th>\n",
       "      <td>SVC</td>\n",
       "      <td>0.904255</td>\n",
       "      <td>{'C': 10, 'gamma': 'scale', 'kernel': 'rbf'}</td>\n",
       "    </tr>\n",
       "    <tr>\n",
       "      <th>2</th>\n",
       "      <td>random_forest_classifier</td>\n",
       "      <td>0.904255</td>\n",
       "      <td>{'max_depth': 5, 'min_samples_split': 10, 'n_e...</td>\n",
       "    </tr>\n",
       "  </tbody>\n",
       "</table>\n",
       "</div>"
      ],
      "text/plain": [
       "                      Model  Accuracy  \\\n",
       "0       logistic_regression  0.904255   \n",
       "1                       SVC  0.904255   \n",
       "2  random_forest_classifier  0.904255   \n",
       "\n",
       "                                           best_parm  \n",
       "0                                          {'C': 10}  \n",
       "1       {'C': 10, 'gamma': 'scale', 'kernel': 'rbf'}  \n",
       "2  {'max_depth': 5, 'min_samples_split': 10, 'n_e...  "
      ]
     },
     "execution_count": 20,
     "metadata": {},
     "output_type": "execute_result"
    }
   ],
   "source": [
    "model_accuracies_df = pd.DataFrame(columns=['Model', 'Accuracy',\"best_parm\"])\n",
    "model_accuracies_df['Model'] = model_dict.keys()\n",
    "model_accuracies_df['Accuracy'] = model_dict.values()\n",
    "model_accuracies_df['best_parm'] = parm_list.values()\n",
    "all_model_accuracies_df['experiment 4']= model_dict.values()\n",
    "model_accuracies_df"
   ]
  },
  {
   "attachments": {},
   "cell_type": "markdown",
   "metadata": {},
   "source": [
    "## Experiment 5: Noisy Indicators\n"
   ]
  },
  {
   "attachments": {},
   "cell_type": "markdown",
   "metadata": {},
   "source": [
    "### Define Noise Function"
   ]
  },
  {
   "cell_type": "code",
   "execution_count": 21,
   "metadata": {},
   "outputs": [],
   "source": [
    "def noisy_indicators(X, noise_level):\n",
    "    return np.random.uniform(low=-noise_level, high=noise_level, size=X.shape)"
   ]
  },
  {
   "cell_type": "code",
   "execution_count": 22,
   "metadata": {},
   "outputs": [],
   "source": [
    "# add noise to dataset \n",
    "X, y = df[[\"radius_mean\"]], df[['diagnosis']]\n",
    "noise_level = 0.1\n",
    "noise = noisy_indicators(X, noise_level)\n",
    "X_noisy = X + noise\n",
    "\n",
    "model_dict = {}\n",
    "parm_list={}\n",
    "logR_tranAndPredict(X_noisy,y,model_dict,parm_list)\n",
    "Svc_tranAndPredict(X_noisy,y,model_dict,parm_list)\n",
    "Rfc_tranAndPredict(X_noisy,y,model_dict,parm_list)"
   ]
  },
  {
   "cell_type": "code",
   "execution_count": 23,
   "metadata": {},
   "outputs": [
    {
     "data": {
      "text/html": [
       "<div>\n",
       "<style scoped>\n",
       "    .dataframe tbody tr th:only-of-type {\n",
       "        vertical-align: middle;\n",
       "    }\n",
       "\n",
       "    .dataframe tbody tr th {\n",
       "        vertical-align: top;\n",
       "    }\n",
       "\n",
       "    .dataframe thead th {\n",
       "        text-align: right;\n",
       "    }\n",
       "</style>\n",
       "<table border=\"1\" class=\"dataframe\">\n",
       "  <thead>\n",
       "    <tr style=\"text-align: right;\">\n",
       "      <th></th>\n",
       "      <th>Model</th>\n",
       "      <th>Accuracy</th>\n",
       "      <th>best_parm</th>\n",
       "    </tr>\n",
       "  </thead>\n",
       "  <tbody>\n",
       "    <tr>\n",
       "      <th>0</th>\n",
       "      <td>logistic_regression</td>\n",
       "      <td>0.893617</td>\n",
       "      <td>{'C': 0.1}</td>\n",
       "    </tr>\n",
       "    <tr>\n",
       "      <th>1</th>\n",
       "      <td>SVC</td>\n",
       "      <td>0.914894</td>\n",
       "      <td>{'C': 1, 'gamma': 'scale', 'kernel': 'rbf'}</td>\n",
       "    </tr>\n",
       "    <tr>\n",
       "      <th>2</th>\n",
       "      <td>random_forest_classifier</td>\n",
       "      <td>0.904255</td>\n",
       "      <td>{'max_depth': 5, 'min_samples_split': 5, 'n_es...</td>\n",
       "    </tr>\n",
       "  </tbody>\n",
       "</table>\n",
       "</div>"
      ],
      "text/plain": [
       "                      Model  Accuracy  \\\n",
       "0       logistic_regression  0.893617   \n",
       "1                       SVC  0.914894   \n",
       "2  random_forest_classifier  0.904255   \n",
       "\n",
       "                                           best_parm  \n",
       "0                                         {'C': 0.1}  \n",
       "1        {'C': 1, 'gamma': 'scale', 'kernel': 'rbf'}  \n",
       "2  {'max_depth': 5, 'min_samples_split': 5, 'n_es...  "
      ]
     },
     "execution_count": 23,
     "metadata": {},
     "output_type": "execute_result"
    }
   ],
   "source": [
    "model_accuracies_df = pd.DataFrame(columns=['Model', 'Accuracy',\"best_parm\"])\n",
    "model_accuracies_df['Model'] = model_dict.keys()\n",
    "model_accuracies_df['Accuracy'] = model_dict.values()\n",
    "model_accuracies_df['best_parm'] = parm_list.values()\n",
    "all_model_accuracies_df['experiment 5']= model_dict.values()\n",
    "model_accuracies_df"
   ]
  },
  {
   "attachments": {},
   "cell_type": "markdown",
   "metadata": {},
   "source": [
    "## Table of Observations"
   ]
  },
  {
   "attachments": {},
   "cell_type": "markdown",
   "metadata": {},
   "source": [
    "Accuracy base on each model in each experiment "
   ]
  },
  {
   "cell_type": "code",
   "execution_count": 31,
   "metadata": {},
   "outputs": [
    {
     "data": {
      "text/html": [
       "<div>\n",
       "<style scoped>\n",
       "    .dataframe tbody tr th:only-of-type {\n",
       "        vertical-align: middle;\n",
       "    }\n",
       "\n",
       "    .dataframe tbody tr th {\n",
       "        vertical-align: top;\n",
       "    }\n",
       "\n",
       "    .dataframe thead th {\n",
       "        text-align: right;\n",
       "    }\n",
       "</style>\n",
       "<table border=\"1\" class=\"dataframe\">\n",
       "  <thead>\n",
       "    <tr style=\"text-align: right;\">\n",
       "      <th></th>\n",
       "      <th>Model</th>\n",
       "      <th>Base Model</th>\n",
       "      <th>experiment 1</th>\n",
       "      <th>experiment 2</th>\n",
       "      <th>experiment 3</th>\n",
       "      <th>experiment 4</th>\n",
       "      <th>experiment 5</th>\n",
       "    </tr>\n",
       "  </thead>\n",
       "  <tbody>\n",
       "    <tr>\n",
       "      <th>0</th>\n",
       "      <td>logistic_regression</td>\n",
       "      <td>0.904255</td>\n",
       "      <td>0.904255</td>\n",
       "      <td>0.914894</td>\n",
       "      <td>0.957447</td>\n",
       "      <td>0.904255</td>\n",
       "      <td>0.893617</td>\n",
       "    </tr>\n",
       "    <tr>\n",
       "      <th>1</th>\n",
       "      <td>SVC</td>\n",
       "      <td>0.904255</td>\n",
       "      <td>0.914894</td>\n",
       "      <td>0.914894</td>\n",
       "      <td>0.952128</td>\n",
       "      <td>0.904255</td>\n",
       "      <td>0.914894</td>\n",
       "    </tr>\n",
       "    <tr>\n",
       "      <th>2</th>\n",
       "      <td>random_forest_classifier</td>\n",
       "      <td>0.904255</td>\n",
       "      <td>0.904255</td>\n",
       "      <td>0.861702</td>\n",
       "      <td>0.930851</td>\n",
       "      <td>0.904255</td>\n",
       "      <td>0.904255</td>\n",
       "    </tr>\n",
       "  </tbody>\n",
       "</table>\n",
       "</div>"
      ],
      "text/plain": [
       "                      Model  Base Model  experiment 1  experiment 2  \\\n",
       "0       logistic_regression    0.904255      0.904255      0.914894   \n",
       "1                       SVC    0.904255      0.914894      0.914894   \n",
       "2  random_forest_classifier    0.904255      0.904255      0.861702   \n",
       "\n",
       "   experiment 3  experiment 4  experiment 5  \n",
       "0      0.957447      0.904255      0.893617  \n",
       "1      0.952128      0.904255      0.914894  \n",
       "2      0.930851      0.904255      0.904255  "
      ]
     },
     "execution_count": 31,
     "metadata": {},
     "output_type": "execute_result"
    }
   ],
   "source": [
    "all_model_accuracies_df"
   ]
  },
  {
   "attachments": {},
   "cell_type": "markdown",
   "metadata": {},
   "source": [
    "There are no extra experiments I conducted. If I have more time, I would try to experiment by adding more features and see the impact of it."
   ]
  },
  {
   "attachments": {},
   "cell_type": "markdown",
   "metadata": {},
   "source": [
    "## Recommend model"
   ]
  },
  {
   "attachments": {},
   "cell_type": "markdown",
   "metadata": {},
   "source": [
    "The winner of the combinations is logistic_regression, with 8 pca componments , and C = 1"
   ]
  },
  {
   "cell_type": "code",
   "execution_count": 32,
   "metadata": {},
   "outputs": [
    {
     "name": "stdout",
     "output_type": "stream",
     "text": [
      "tuned_model score: 0.9787234042553191\n"
     ]
    }
   ],
   "source": [
    "X, y = df.drop('diagnosis', axis=1), df[['diagnosis']]\n",
    "X_train, X_test, y_train, y_test  = train_test_split(X, y, test_size=0.33)\n",
    "tuned_model = Pipeline([\n",
    "    ('scaler', StandardScaler()),\n",
    "    ('pca', PCA(n_components=8)),\n",
    "    ('log', LogisticRegression(C=1))\n",
    "])\n",
    "\n",
    "tuned_model.fit(X_train,y_train.values.ravel())\n",
    "score = tuned_model.score(X_test, y_test)\n",
    "print(\"tuned_model score:\", score)"
   ]
  }
 ],
 "metadata": {
  "kernelspec": {
   "display_name": "Python 3",
   "language": "python",
   "name": "python3"
  },
  "language_info": {
   "codemirror_mode": {
    "name": "ipython",
    "version": 3
   },
   "file_extension": ".py",
   "mimetype": "text/x-python",
   "name": "python",
   "nbconvert_exporter": "python",
   "pygments_lexer": "ipython3",
   "version": "3.10.4"
  },
  "orig_nbformat": 4
 },
 "nbformat": 4,
 "nbformat_minor": 2
}
